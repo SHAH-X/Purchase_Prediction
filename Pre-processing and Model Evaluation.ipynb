{
  "nbformat": 4,
  "nbformat_minor": 0,
  "metadata": {
    "colab": {
      "provenance": []
    },
    "kernelspec": {
      "name": "python3",
      "display_name": "Python 3"
    },
    "language_info": {
      "name": "python"
    }
  },
  "cells": [
    {
      "cell_type": "markdown",
      "source": [
        "# **SETUP**"
      ],
      "metadata": {
        "id": "3PdcBWtC7XeD"
      }
    },
    {
      "cell_type": "markdown",
      "source": [
        "**Importing the Library**"
      ],
      "metadata": {
        "id": "JLgnXEZfp-5C"
      }
    },
    {
      "cell_type": "code",
      "source": [
        "# importing the pandas library \n",
        "import pandas as pd \n",
        "# importing matplotlib library\n",
        "import matplotlib.pyplot as plt \n",
        "# importing numpy library\n",
        "import numpy as np \n",
        "# importing seaborn library\n",
        "import seaborn as sns \n",
        "# importing preprocessing module from sklearn library\n",
        "from sklearn import preprocessing \n",
        "%matplotlib inline"
      ],
      "metadata": {
        "id": "NXEX3se2qCx-"
      },
      "execution_count": 962,
      "outputs": []
    },
    {
      "cell_type": "markdown",
      "source": [
        "**Importing the Dataset**"
      ],
      "metadata": {
        "id": "EMJv2dIhqIOV"
      }
    },
    {
      "cell_type": "code",
      "source": [
        "# importing the dataset from csv format and storing it in dataframe named 'df'\n",
        "df = pd.read_csv('cwk_data_lixhs34.csv') "
      ],
      "metadata": {
        "id": "b8kgQnzmqKMd"
      },
      "execution_count": 963,
      "outputs": []
    },
    {
      "cell_type": "markdown",
      "source": [
        "# **REMOVING OUTLIERS**"
      ],
      "metadata": {
        "id": "HcJpVoo16Xyx"
      }
    },
    {
      "cell_type": "markdown",
      "source": [
        "**Cleaning some numerical data based on Visual analysis in previous section (Summarization)**"
      ],
      "metadata": {
        "id": "x8x7mujxL6FR"
      }
    },
    {
      "cell_type": "code",
      "source": [
        "# Identifying and cleaning the dataset manually for some numerical features, since outlier detection using z-score is not useful for them as they don't follow a proper distribution\n",
        "\n",
        "# Removing extreme values from campaign\n",
        "list1 = df[df['campaign']>20].index.tolist()\n",
        "df.drop(list1,axis=0, inplace=True)\n",
        "\n",
        "# Removing extreme values from pdays\n",
        "list1 = df[df['pdays']>400].index.tolist()\n",
        "df.drop(list1,axis=0, inplace=True)\n",
        "\n",
        "# Removing extreme values from previous\n",
        "list1 = df[df['previous']>10].index.tolist()\n",
        "df.drop(list1,axis=0, inplace=True)\n",
        "\n",
        "# Reset Index of the dataframe\n",
        "df=df.reset_index(drop=True)"
      ],
      "metadata": {
        "id": "Oe4Z9FiaL5ki"
      },
      "execution_count": 964,
      "outputs": []
    },
    {
      "cell_type": "markdown",
      "source": [
        "**Removing other outliers from numerical data that follows somewhat normal distribution i.e Features like “age”, “balance”, “day” and “duration”**"
      ],
      "metadata": {
        "id": "2409NhER1R29"
      }
    },
    {
      "cell_type": "code",
      "source": [
        "# Standardizing all numerical values \n",
        "# importing the StandardScaler module from sklearn.preprocessing package\n",
        "from sklearn.preprocessing import StandardScaler\n",
        "\n",
        "# Creating an object of StandardScaler()\n",
        "object= StandardScaler()\n",
        " \n",
        "# Applying fit_transform() to standardize the numerical data and save it in 'scale'\n",
        "scale = object.fit_transform(df[[\"age\",\"balance\",\"day\",\"duration\"]]) \n",
        "\n",
        "# Standardized data is stored in dataframe with appropriate column names\n",
        "scaled_numerical_data = pd.DataFrame(scale, columns= [\"age\",\"balance\",\"day\",\"duration\"])\n",
        "\n",
        "# Printing the standardized values\n",
        "print(scaled_numerical_data)"
      ],
      "metadata": {
        "colab": {
          "base_uri": "https://localhost:8080/"
        },
        "id": "q-P6kMJA17bj",
        "outputId": "65141548-4841-43f7-dc76-53978e7a6553"
      },
      "execution_count": 965,
      "outputs": [
        {
          "output_type": "stream",
          "name": "stdout",
          "text": [
            "           age   balance       day  duration\n",
            "0     0.381505 -0.439868 -1.058737  0.344456\n",
            "1     2.298483 -0.021356  0.140266  1.488541\n",
            "2    -1.079050 -0.624866  0.619867 -0.335165\n",
            "3    -0.531342 -0.372023 -0.219435  0.187358\n",
            "4     1.294352  0.628305 -0.818936  0.050750\n",
            "...        ...       ...       ...       ...\n",
            "3916  0.016367 -0.506531 -1.538338  1.939345\n",
            "3917 -0.440057 -0.444996  0.619867 -0.242955\n",
            "3918 -0.805196 -0.359006 -1.178637 -0.584473\n",
            "3919 -0.987765  0.810935 -1.538338 -0.178067\n",
            "3920 -0.805196 -0.450913  0.739767 -0.956728\n",
            "\n",
            "[3921 rows x 4 columns]\n"
          ]
        }
      ]
    },
    {
      "cell_type": "code",
      "source": [
        "list2 = []\n",
        "# for loop to access all values of each column of scaled_numerical_data\n",
        "for i in scaled_numerical_data.columns:\n",
        "  # Storing index of rows detected as outliers i.e rows having z-score greater than 3 and less than -3\n",
        "  list2 = list2 + scaled_numerical_data[(scaled_numerical_data[i]>3) | (scaled_numerical_data[i]<-3)].index.tolist()\n",
        "\n",
        "# Dropping the rows identified as outliers using their indices\n",
        "df.drop(list2,axis=0, inplace=True)\n",
        "\n",
        "# Reset Index of the dataframe\n",
        "df=df.reset_index(drop=True)\n",
        "# View the final shape of the dataset after removing the outliers\n",
        "print(df.shape)"
      ],
      "metadata": {
        "colab": {
          "base_uri": "https://localhost:8080/"
        },
        "id": "LOGzqCzx1EEa",
        "outputId": "c5810131-8e11-417d-ab6c-560c0a92c505"
      },
      "execution_count": 966,
      "outputs": [
        {
          "output_type": "stream",
          "name": "stdout",
          "text": [
            "(3714, 16)\n"
          ]
        }
      ]
    },
    {
      "cell_type": "markdown",
      "source": [
        "**Separating input and output features**"
      ],
      "metadata": {
        "id": "oo5JqAPKEzYT"
      }
    },
    {
      "cell_type": "code",
      "source": [
        "# storing all the input features to the variable 'x'\n",
        "x = df.iloc[:,:-1] \n",
        "# storing the output feature to the variable 'y' and converting it to dataframe\n",
        "y = pd.DataFrame(df.iloc[:,-1],columns=['y']) \n",
        "# Taking a look at first few rows of the dataset\n",
        "x.head() "
      ],
      "metadata": {
        "id": "MBHyTGygE12V",
        "colab": {
          "base_uri": "https://localhost:8080/",
          "height": 268
        },
        "outputId": "35265298-4552-48e9-c5e3-6098ee95ae6e"
      },
      "execution_count": 967,
      "outputs": [
        {
          "output_type": "execute_result",
          "data": {
            "text/plain": [
              "   age           job   marital  education default  balance housing loan  \\\n",
              "0   45  entrepreneur   married   tertiary      no      169      no   no   \n",
              "1   66     housemaid   married    primary      no     1230      no   no   \n",
              "2   29   blue-collar  divorced  secondary      no     -300      no   no   \n",
              "3   35      services   married  secondary      no      341     yes   no   \n",
              "4   55      services   married   tertiary      no     2877      no   no   \n",
              "\n",
              "    contact  day  duration  campaign  pdays  previous poutcome  \n",
              "0  cellular    7       391         4     -1         0  unknown  \n",
              "1  cellular   17       726         3     -1         0  unknown  \n",
              "2   unknown   21       192         1     -1         0  unknown  \n",
              "3  cellular   14       345         1     -1         0  unknown  \n",
              "4  cellular    9       305         1     91         2    other  "
            ],
            "text/html": [
              "\n",
              "  <div id=\"df-f67bfe20-d963-42f0-bf5a-ee32b4410438\">\n",
              "    <div class=\"colab-df-container\">\n",
              "      <div>\n",
              "<style scoped>\n",
              "    .dataframe tbody tr th:only-of-type {\n",
              "        vertical-align: middle;\n",
              "    }\n",
              "\n",
              "    .dataframe tbody tr th {\n",
              "        vertical-align: top;\n",
              "    }\n",
              "\n",
              "    .dataframe thead th {\n",
              "        text-align: right;\n",
              "    }\n",
              "</style>\n",
              "<table border=\"1\" class=\"dataframe\">\n",
              "  <thead>\n",
              "    <tr style=\"text-align: right;\">\n",
              "      <th></th>\n",
              "      <th>age</th>\n",
              "      <th>job</th>\n",
              "      <th>marital</th>\n",
              "      <th>education</th>\n",
              "      <th>default</th>\n",
              "      <th>balance</th>\n",
              "      <th>housing</th>\n",
              "      <th>loan</th>\n",
              "      <th>contact</th>\n",
              "      <th>day</th>\n",
              "      <th>duration</th>\n",
              "      <th>campaign</th>\n",
              "      <th>pdays</th>\n",
              "      <th>previous</th>\n",
              "      <th>poutcome</th>\n",
              "    </tr>\n",
              "  </thead>\n",
              "  <tbody>\n",
              "    <tr>\n",
              "      <th>0</th>\n",
              "      <td>45</td>\n",
              "      <td>entrepreneur</td>\n",
              "      <td>married</td>\n",
              "      <td>tertiary</td>\n",
              "      <td>no</td>\n",
              "      <td>169</td>\n",
              "      <td>no</td>\n",
              "      <td>no</td>\n",
              "      <td>cellular</td>\n",
              "      <td>7</td>\n",
              "      <td>391</td>\n",
              "      <td>4</td>\n",
              "      <td>-1</td>\n",
              "      <td>0</td>\n",
              "      <td>unknown</td>\n",
              "    </tr>\n",
              "    <tr>\n",
              "      <th>1</th>\n",
              "      <td>66</td>\n",
              "      <td>housemaid</td>\n",
              "      <td>married</td>\n",
              "      <td>primary</td>\n",
              "      <td>no</td>\n",
              "      <td>1230</td>\n",
              "      <td>no</td>\n",
              "      <td>no</td>\n",
              "      <td>cellular</td>\n",
              "      <td>17</td>\n",
              "      <td>726</td>\n",
              "      <td>3</td>\n",
              "      <td>-1</td>\n",
              "      <td>0</td>\n",
              "      <td>unknown</td>\n",
              "    </tr>\n",
              "    <tr>\n",
              "      <th>2</th>\n",
              "      <td>29</td>\n",
              "      <td>blue-collar</td>\n",
              "      <td>divorced</td>\n",
              "      <td>secondary</td>\n",
              "      <td>no</td>\n",
              "      <td>-300</td>\n",
              "      <td>no</td>\n",
              "      <td>no</td>\n",
              "      <td>unknown</td>\n",
              "      <td>21</td>\n",
              "      <td>192</td>\n",
              "      <td>1</td>\n",
              "      <td>-1</td>\n",
              "      <td>0</td>\n",
              "      <td>unknown</td>\n",
              "    </tr>\n",
              "    <tr>\n",
              "      <th>3</th>\n",
              "      <td>35</td>\n",
              "      <td>services</td>\n",
              "      <td>married</td>\n",
              "      <td>secondary</td>\n",
              "      <td>no</td>\n",
              "      <td>341</td>\n",
              "      <td>yes</td>\n",
              "      <td>no</td>\n",
              "      <td>cellular</td>\n",
              "      <td>14</td>\n",
              "      <td>345</td>\n",
              "      <td>1</td>\n",
              "      <td>-1</td>\n",
              "      <td>0</td>\n",
              "      <td>unknown</td>\n",
              "    </tr>\n",
              "    <tr>\n",
              "      <th>4</th>\n",
              "      <td>55</td>\n",
              "      <td>services</td>\n",
              "      <td>married</td>\n",
              "      <td>tertiary</td>\n",
              "      <td>no</td>\n",
              "      <td>2877</td>\n",
              "      <td>no</td>\n",
              "      <td>no</td>\n",
              "      <td>cellular</td>\n",
              "      <td>9</td>\n",
              "      <td>305</td>\n",
              "      <td>1</td>\n",
              "      <td>91</td>\n",
              "      <td>2</td>\n",
              "      <td>other</td>\n",
              "    </tr>\n",
              "  </tbody>\n",
              "</table>\n",
              "</div>\n",
              "      <button class=\"colab-df-convert\" onclick=\"convertToInteractive('df-f67bfe20-d963-42f0-bf5a-ee32b4410438')\"\n",
              "              title=\"Convert this dataframe to an interactive table.\"\n",
              "              style=\"display:none;\">\n",
              "        \n",
              "  <svg xmlns=\"http://www.w3.org/2000/svg\" height=\"24px\"viewBox=\"0 0 24 24\"\n",
              "       width=\"24px\">\n",
              "    <path d=\"M0 0h24v24H0V0z\" fill=\"none\"/>\n",
              "    <path d=\"M18.56 5.44l.94 2.06.94-2.06 2.06-.94-2.06-.94-.94-2.06-.94 2.06-2.06.94zm-11 1L8.5 8.5l.94-2.06 2.06-.94-2.06-.94L8.5 2.5l-.94 2.06-2.06.94zm10 10l.94 2.06.94-2.06 2.06-.94-2.06-.94-.94-2.06-.94 2.06-2.06.94z\"/><path d=\"M17.41 7.96l-1.37-1.37c-.4-.4-.92-.59-1.43-.59-.52 0-1.04.2-1.43.59L10.3 9.45l-7.72 7.72c-.78.78-.78 2.05 0 2.83L4 21.41c.39.39.9.59 1.41.59.51 0 1.02-.2 1.41-.59l7.78-7.78 2.81-2.81c.8-.78.8-2.07 0-2.86zM5.41 20L4 18.59l7.72-7.72 1.47 1.35L5.41 20z\"/>\n",
              "  </svg>\n",
              "      </button>\n",
              "      \n",
              "  <style>\n",
              "    .colab-df-container {\n",
              "      display:flex;\n",
              "      flex-wrap:wrap;\n",
              "      gap: 12px;\n",
              "    }\n",
              "\n",
              "    .colab-df-convert {\n",
              "      background-color: #E8F0FE;\n",
              "      border: none;\n",
              "      border-radius: 50%;\n",
              "      cursor: pointer;\n",
              "      display: none;\n",
              "      fill: #1967D2;\n",
              "      height: 32px;\n",
              "      padding: 0 0 0 0;\n",
              "      width: 32px;\n",
              "    }\n",
              "\n",
              "    .colab-df-convert:hover {\n",
              "      background-color: #E2EBFA;\n",
              "      box-shadow: 0px 1px 2px rgba(60, 64, 67, 0.3), 0px 1px 3px 1px rgba(60, 64, 67, 0.15);\n",
              "      fill: #174EA6;\n",
              "    }\n",
              "\n",
              "    [theme=dark] .colab-df-convert {\n",
              "      background-color: #3B4455;\n",
              "      fill: #D2E3FC;\n",
              "    }\n",
              "\n",
              "    [theme=dark] .colab-df-convert:hover {\n",
              "      background-color: #434B5C;\n",
              "      box-shadow: 0px 1px 3px 1px rgba(0, 0, 0, 0.15);\n",
              "      filter: drop-shadow(0px 1px 2px rgba(0, 0, 0, 0.3));\n",
              "      fill: #FFFFFF;\n",
              "    }\n",
              "  </style>\n",
              "\n",
              "      <script>\n",
              "        const buttonEl =\n",
              "          document.querySelector('#df-f67bfe20-d963-42f0-bf5a-ee32b4410438 button.colab-df-convert');\n",
              "        buttonEl.style.display =\n",
              "          google.colab.kernel.accessAllowed ? 'block' : 'none';\n",
              "\n",
              "        async function convertToInteractive(key) {\n",
              "          const element = document.querySelector('#df-f67bfe20-d963-42f0-bf5a-ee32b4410438');\n",
              "          const dataTable =\n",
              "            await google.colab.kernel.invokeFunction('convertToInteractive',\n",
              "                                                     [key], {});\n",
              "          if (!dataTable) return;\n",
              "\n",
              "          const docLinkHtml = 'Like what you see? Visit the ' +\n",
              "            '<a target=\"_blank\" href=https://colab.research.google.com/notebooks/data_table.ipynb>data table notebook</a>'\n",
              "            + ' to learn more about interactive tables.';\n",
              "          element.innerHTML = '';\n",
              "          dataTable['output_type'] = 'display_data';\n",
              "          await google.colab.output.renderOutput(dataTable, element);\n",
              "          const docLink = document.createElement('div');\n",
              "          docLink.innerHTML = docLinkHtml;\n",
              "          element.appendChild(docLink);\n",
              "        }\n",
              "      </script>\n",
              "    </div>\n",
              "  </div>\n",
              "  "
            ]
          },
          "metadata": {},
          "execution_count": 967
        }
      ]
    },
    {
      "cell_type": "markdown",
      "source": [
        "**Separating numerical and categorical data from the input features**"
      ],
      "metadata": {
        "id": "vHmeQ0XB4JnD"
      }
    },
    {
      "cell_type": "code",
      "source": [
        "# Extracting Numerical data from the dataset\n",
        "numerical_data = x.select_dtypes(include=[np.number]) \n",
        "# Extracting Categorical data from the dataset\n",
        "categorical_data = x.select_dtypes(exclude=[np.number]) "
      ],
      "metadata": {
        "id": "_DdYuja1cDwy"
      },
      "execution_count": 968,
      "outputs": []
    },
    {
      "cell_type": "markdown",
      "source": [
        "# **DATA PRE-PROCESSING**"
      ],
      "metadata": {
        "id": "vjZBDLTYnx3o"
      }
    },
    {
      "cell_type": "markdown",
      "source": [
        "## **Converting categorical data to numeric data using encoding**\n",
        "---"
      ],
      "metadata": {
        "id": "5Yp88jLH828q"
      }
    },
    {
      "cell_type": "markdown",
      "source": [
        "### **Label Encoding**\n",
        "\n",
        "---\n",
        "\n",
        "\n",
        "\n",
        "\n"
      ],
      "metadata": {
        "id": "Ii-tLXv-8XNi"
      }
    },
    {
      "cell_type": "markdown",
      "source": [
        "**FOR ORDINAL CATEGORICAL VARIABLES**\n",
        "\n",
        "\n",
        "> For our dataset, we have only 1 ordinal categorical variable i.e 'education' - having categories : primary, secondary, tertiary which is converted to 0,1 and 2 respectively\n",
        "\n"
      ],
      "metadata": {
        "id": "MM443-f112yw"
      }
    },
    {
      "cell_type": "code",
      "source": [
        "# creating an object label_encoder of class 'LabelEncoder' to use it for applying label encoding\n",
        "label_encoder = preprocessing.LabelEncoder() \n",
        "print(categorical_data.head())\n",
        "# Applying Label Encoding to 'education' column\n",
        "temp = label_encoder.fit_transform(categorical_data['education'])\n",
        "print('\\n')\n",
        "# Replacing the original values with the encoded values\n",
        "categorical_data['education']= temp\n",
        "# View the dataset\n",
        "print(categorical_data.head())"
      ],
      "metadata": {
        "id": "SzpLPMxB8WhU",
        "colab": {
          "base_uri": "https://localhost:8080/"
        },
        "outputId": "24973cd0-0c2d-4767-a604-45638721e201"
      },
      "execution_count": 969,
      "outputs": [
        {
          "output_type": "stream",
          "name": "stdout",
          "text": [
            "            job   marital  education default housing loan   contact poutcome\n",
            "0  entrepreneur   married   tertiary      no      no   no  cellular  unknown\n",
            "1     housemaid   married    primary      no      no   no  cellular  unknown\n",
            "2   blue-collar  divorced  secondary      no      no   no   unknown  unknown\n",
            "3      services   married  secondary      no     yes   no  cellular  unknown\n",
            "4      services   married   tertiary      no      no   no  cellular    other\n",
            "\n",
            "\n",
            "            job   marital  education default housing loan   contact poutcome\n",
            "0  entrepreneur   married          2      no      no   no  cellular  unknown\n",
            "1     housemaid   married          0      no      no   no  cellular  unknown\n",
            "2   blue-collar  divorced          1      no      no   no   unknown  unknown\n",
            "3      services   married          1      no     yes   no  cellular  unknown\n",
            "4      services   married          2      no      no   no  cellular    other\n"
          ]
        },
        {
          "output_type": "stream",
          "name": "stderr",
          "text": [
            "<ipython-input-969-d448a1c84984>:8: SettingWithCopyWarning: \n",
            "A value is trying to be set on a copy of a slice from a DataFrame.\n",
            "Try using .loc[row_indexer,col_indexer] = value instead\n",
            "\n",
            "See the caveats in the documentation: https://pandas.pydata.org/pandas-docs/stable/user_guide/indexing.html#returning-a-view-versus-a-copy\n",
            "  categorical_data['education']= temp\n"
          ]
        }
      ]
    },
    {
      "cell_type": "markdown",
      "source": [
        "**FOR BINARY CATEGORICAL VARIABLES**\n",
        "\n",
        "\n",
        "\n",
        "> For 'default', 'housing' and 'loan' features, we convert yes to 1 and no to 0\n",
        "\n"
      ],
      "metadata": {
        "id": "1dro2tQb1qsB"
      }
    },
    {
      "cell_type": "code",
      "source": [
        "# Creating an object label_encoder of class 'LabelEncoder' to use it for applying label encoding\n",
        "label_encoder = preprocessing.LabelEncoder()\n",
        "\n",
        "# View data before conversion\n",
        "print(categorical_data.head())\n",
        "\n",
        "# identifying number of unique values in each categorical variable. So that binary categorical variables can be used to convert to 0,1 using label encoding\n",
        "for i in categorical_data:\n",
        "  print(i,': ',categorical_data[i].nunique())\n",
        "  # check for binary categorical variables i.e features having just 2 classes\n",
        "  if categorical_data[i].nunique()==2:\n",
        "    # Applying Label Encoding and store it in new column\n",
        "    categorical_data.loc[:,i+' (Label Encoding)']= label_encoder.fit_transform(categorical_data[i])\n",
        "    # copy the values from new column to old column in order to replace the original categorical values by numerical values\n",
        "    categorical_data.loc[:,i] = categorical_data.loc[:,i+' (Label Encoding)']\n",
        "    # delete the newly created columns once the values are copied\n",
        "    del categorical_data[i+' (Label Encoding)']\n",
        "\n",
        "# View data after conversion\n",
        "print(categorical_data.head())"
      ],
      "metadata": {
        "id": "EmjHru511oZ4",
        "colab": {
          "base_uri": "https://localhost:8080/"
        },
        "outputId": "678a4575-b456-4f5c-8184-fb662acc82ee"
      },
      "execution_count": 970,
      "outputs": [
        {
          "output_type": "stream",
          "name": "stdout",
          "text": [
            "            job   marital  education default housing loan   contact poutcome\n",
            "0  entrepreneur   married          2      no      no   no  cellular  unknown\n",
            "1     housemaid   married          0      no      no   no  cellular  unknown\n",
            "2   blue-collar  divorced          1      no      no   no   unknown  unknown\n",
            "3      services   married          1      no     yes   no  cellular  unknown\n",
            "4      services   married          2      no      no   no  cellular    other\n",
            "job :  12\n",
            "marital :  3\n",
            "education :  4\n",
            "default :  2\n",
            "housing :  2\n",
            "loan :  2\n",
            "contact :  3\n",
            "poutcome :  4\n",
            "            job   marital  education  default  housing  loan   contact  \\\n",
            "0  entrepreneur   married          2        0        0     0  cellular   \n",
            "1     housemaid   married          0        0        0     0  cellular   \n",
            "2   blue-collar  divorced          1        0        0     0   unknown   \n",
            "3      services   married          1        0        1     0  cellular   \n",
            "4      services   married          2        0        0     0  cellular   \n",
            "\n",
            "  poutcome  \n",
            "0  unknown  \n",
            "1  unknown  \n",
            "2  unknown  \n",
            "3  unknown  \n",
            "4    other  \n"
          ]
        },
        {
          "output_type": "stream",
          "name": "stderr",
          "text": [
            "/usr/local/lib/python3.8/dist-packages/pandas/core/indexing.py:1667: SettingWithCopyWarning: \n",
            "A value is trying to be set on a copy of a slice from a DataFrame.\n",
            "Try using .loc[row_indexer,col_indexer] = value instead\n",
            "\n",
            "See the caveats in the documentation: https://pandas.pydata.org/pandas-docs/stable/user_guide/indexing.html#returning-a-view-versus-a-copy\n",
            "  self.obj[key] = value\n",
            "/usr/local/lib/python3.8/dist-packages/pandas/core/indexing.py:1773: SettingWithCopyWarning: \n",
            "A value is trying to be set on a copy of a slice from a DataFrame.\n",
            "Try using .loc[row_indexer,col_indexer] = value instead\n",
            "\n",
            "See the caveats in the documentation: https://pandas.pydata.org/pandas-docs/stable/user_guide/indexing.html#returning-a-view-versus-a-copy\n",
            "  self._setitem_single_column(ilocs[0], value, pi)\n"
          ]
        }
      ]
    },
    {
      "cell_type": "markdown",
      "source": [
        "**FOR OUTPUT VARIABLE**\n",
        "\n",
        "we convert yes to 1 and no to 0"
      ],
      "metadata": {
        "id": "Tc9QJcs2bxeO"
      }
    },
    {
      "cell_type": "code",
      "source": [
        "# Creating an object label_encoder of class 'LabelEncoder' to use it for applying label encoding\n",
        "label_encoder = preprocessing.LabelEncoder() \n",
        "# View data before conversion\n",
        "print(y.head())\n",
        "# Applying Label Encoding\n",
        "temp = pd.DataFrame(label_encoder.fit_transform(y.iloc[:,0]),columns=['y'])\n",
        "# Replacing the original categorical values by numerical values\n",
        "y= temp\n",
        "# View data after conversion\n",
        "print(y.head())"
      ],
      "metadata": {
        "colab": {
          "base_uri": "https://localhost:8080/"
        },
        "id": "uxYsfEPBbZz6",
        "outputId": "06ff634b-fb44-46bc-f19a-6e2d209e5c3b"
      },
      "execution_count": 971,
      "outputs": [
        {
          "output_type": "stream",
          "name": "stdout",
          "text": [
            "     y\n",
            "0   no\n",
            "1  yes\n",
            "2   no\n",
            "3  yes\n",
            "4   no\n",
            "   y\n",
            "0  0\n",
            "1  1\n",
            "2  0\n",
            "3  1\n",
            "4  0\n"
          ]
        }
      ]
    },
    {
      "cell_type": "markdown",
      "source": [
        "### **ONE-HOT/DUMMY ENCODING FOR NOMINAL CATEGORICAL VARIABLES**\n",
        "\n",
        "For 'job', 'marital', 'contact' and 'poutcome' variables, we apply one-hot encoding technique\n",
        "\n"
      ],
      "metadata": {
        "id": "i1XtIkvI8pHX"
      }
    },
    {
      "cell_type": "code",
      "source": [
        "# View data before conversion\n",
        "print(categorical_data.head())\n",
        "for i in categorical_data:\n",
        "  print(i,': ',categorical_data[i].nunique())\n",
        "  # check for multiple categorical variables i.e features having more than 2 classes but excluding 'education' where we have already applied label encoding \n",
        "  if categorical_data[i].nunique()!=2 and i!='education':\n",
        "    # Applying One Hot Encoding\n",
        "    dummies = pd.get_dummies(categorical_data[i]) \n",
        "    # renaming columns to avoid duplicate names like 'unknown' which exists in each of poutcome, education, contact, etc\n",
        "    dummies = dummies.add_prefix(i+': ')  \n",
        "    # Avoiding the dummy trap by removing the last extra column generated\n",
        "    dummies.drop(columns=dummies.columns[-1], axis=1,  inplace=True)\n",
        "    # Adding the newly generated columns to the original dataset\n",
        "    categorical_data = pd.concat([categorical_data,dummies],axis=1)\n",
        "    # Delete the original categorical column \n",
        "    del categorical_data[i]\n",
        "\n",
        "# View data after conversion\n",
        "print(categorical_data.head())"
      ],
      "metadata": {
        "id": "4Lt39xBO8sCR",
        "colab": {
          "base_uri": "https://localhost:8080/"
        },
        "outputId": "3e2230c1-5e66-4d36-8230-9de6ab39a187"
      },
      "execution_count": 972,
      "outputs": [
        {
          "output_type": "stream",
          "name": "stdout",
          "text": [
            "            job   marital  education  default  housing  loan   contact  \\\n",
            "0  entrepreneur   married          2        0        0     0  cellular   \n",
            "1     housemaid   married          0        0        0     0  cellular   \n",
            "2   blue-collar  divorced          1        0        0     0   unknown   \n",
            "3      services   married          1        0        1     0  cellular   \n",
            "4      services   married          2        0        0     0  cellular   \n",
            "\n",
            "  poutcome  \n",
            "0  unknown  \n",
            "1  unknown  \n",
            "2  unknown  \n",
            "3  unknown  \n",
            "4    other  \n",
            "job :  12\n",
            "marital :  3\n",
            "education :  4\n",
            "default :  2\n",
            "housing :  2\n",
            "loan :  2\n",
            "contact :  3\n",
            "poutcome :  4\n",
            "   education  default  housing  loan  job: admin.  job: blue-collar  \\\n",
            "0          2        0        0     0            0                 0   \n",
            "1          0        0        0     0            0                 0   \n",
            "2          1        0        0     0            0                 1   \n",
            "3          1        0        1     0            0                 0   \n",
            "4          2        0        0     0            0                 0   \n",
            "\n",
            "   job: entrepreneur  job: housemaid  job: management  job: retired  ...  \\\n",
            "0                  1               0                0             0  ...   \n",
            "1                  0               1                0             0  ...   \n",
            "2                  0               0                0             0  ...   \n",
            "3                  0               0                0             0  ...   \n",
            "4                  0               0                0             0  ...   \n",
            "\n",
            "   job: student  job: technician  job: unemployed  marital: divorced  \\\n",
            "0             0                0                0                  0   \n",
            "1             0                0                0                  0   \n",
            "2             0                0                0                  1   \n",
            "3             0                0                0                  0   \n",
            "4             0                0                0                  0   \n",
            "\n",
            "   marital: married  contact: cellular  contact: telephone  poutcome: failure  \\\n",
            "0                 1                  1                   0                  0   \n",
            "1                 1                  1                   0                  0   \n",
            "2                 0                  0                   0                  0   \n",
            "3                 1                  1                   0                  0   \n",
            "4                 1                  1                   0                  0   \n",
            "\n",
            "   poutcome: other  poutcome: success  \n",
            "0                0                  0  \n",
            "1                0                  0  \n",
            "2                0                  0  \n",
            "3                0                  0  \n",
            "4                1                  0  \n",
            "\n",
            "[5 rows x 22 columns]\n"
          ]
        }
      ]
    },
    {
      "cell_type": "markdown",
      "source": [
        "## **Standardization of numerical data**\n",
        "\n",
        "---\n",
        "\n"
      ],
      "metadata": {
        "id": "2vzpM-1CiCK8"
      }
    },
    {
      "cell_type": "code",
      "source": [
        "# Standardizing all numerical values \n",
        "# importing the StandardScaler module from sklearn.preprocessing package\n",
        "from sklearn.preprocessing import StandardScaler\n",
        "\n",
        "# Creating an object of StandardScaler()\n",
        "object= StandardScaler()\n",
        " \n",
        "# Applying fit_transform() to standardize the numerical data and save it in 'scale'\n",
        "scale = object.fit_transform(numerical_data) \n",
        "\n",
        "# Standardized data is stored in dataframe with appropriate column names\n",
        "scaled_numerical_data = pd.DataFrame(scale, columns = numerical_data.columns)\n",
        "\n",
        "# Printing the standardized values\n",
        "print(scaled_numerical_data)"
      ],
      "metadata": {
        "colab": {
          "base_uri": "https://localhost:8080/"
        },
        "id": "lQgnREqkiBck",
        "outputId": "e47d5c7f-38d3-49db-c7df-2d133b8af1cd"
      },
      "execution_count": 973,
      "outputs": [
        {
          "output_type": "stream",
          "name": "stdout",
          "text": [
            "           age   balance       day  duration  campaign     pdays  previous\n",
            "0     0.439462 -0.540540 -1.057383  0.589501  0.594644 -0.420184 -0.361133\n",
            "1     2.463998  0.150736  0.136742  2.110438  0.176683 -0.420184 -0.361133\n",
            "2    -1.103041 -0.846109  0.614392 -0.313982 -0.659240 -0.420184 -0.361133\n",
            "3    -0.524603 -0.428477 -0.221495  0.380655 -0.659240 -0.420184 -0.361133\n",
            "4     1.403526  1.223811 -0.818558  0.199051 -0.659240  0.570268  1.124190\n",
            "...        ...       ...       ...       ...       ...       ...       ...\n",
            "3709  0.053836 -0.650649 -1.535033  2.709732 -0.659240 -0.420184 -0.361133\n",
            "3710 -0.428196 -0.549010  0.614392 -0.191399 -0.241279 -0.420184 -0.361133\n",
            "3711 -0.813822 -0.406976 -1.176795 -0.645410  1.430566 -0.420184 -0.361133\n",
            "3712 -1.006635  1.525471 -1.535033 -0.105136  0.176683 -0.420184 -0.361133\n",
            "3713 -0.813822 -0.558783  0.733805 -1.140282  4.356295 -0.420184 -0.361133\n",
            "\n",
            "[3714 rows x 7 columns]\n"
          ]
        }
      ]
    },
    {
      "cell_type": "markdown",
      "source": [
        "## **Combining Processed Dataset on which Decision Tree Classification can be applied for feature selection**"
      ],
      "metadata": {
        "id": "CcLJtIKlAw4d"
      }
    },
    {
      "cell_type": "code",
      "source": [
        "# Combining processed categorical data and numerical data to get the final processed dataset\n",
        "processed_df = pd.concat([scaled_numerical_data,categorical_data,y],axis=1)\n",
        "processed_df.reset_index(drop=True)\n",
        "\n",
        "print(processed_df.head())\n",
        "\n",
        "# Storing all input features in \"processed_x\"\n",
        "processed_x = processed_df.iloc[:,:-1]\n",
        "# Storing output feature in \"processed_y\"\n",
        "processed_y = pd.DataFrame(processed_df.iloc[:,-1],columns=['y'])"
      ],
      "metadata": {
        "id": "ZwTXKprUAwfy",
        "colab": {
          "base_uri": "https://localhost:8080/"
        },
        "outputId": "591e9d42-e3ec-4051-9b29-d0a02808e9e5"
      },
      "execution_count": 974,
      "outputs": [
        {
          "output_type": "stream",
          "name": "stdout",
          "text": [
            "        age   balance       day  duration  campaign     pdays  previous  \\\n",
            "0  0.439462 -0.540540 -1.057383  0.589501  0.594644 -0.420184 -0.361133   \n",
            "1  2.463998  0.150736  0.136742  2.110438  0.176683 -0.420184 -0.361133   \n",
            "2 -1.103041 -0.846109  0.614392 -0.313982 -0.659240 -0.420184 -0.361133   \n",
            "3 -0.524603 -0.428477 -0.221495  0.380655 -0.659240 -0.420184 -0.361133   \n",
            "4  1.403526  1.223811 -0.818558  0.199051 -0.659240  0.570268  1.124190   \n",
            "\n",
            "   education  default  housing  ...  job: technician  job: unemployed  \\\n",
            "0          2        0        0  ...                0                0   \n",
            "1          0        0        0  ...                0                0   \n",
            "2          1        0        0  ...                0                0   \n",
            "3          1        0        1  ...                0                0   \n",
            "4          2        0        0  ...                0                0   \n",
            "\n",
            "   marital: divorced  marital: married  contact: cellular  contact: telephone  \\\n",
            "0                  0                 1                  1                   0   \n",
            "1                  0                 1                  1                   0   \n",
            "2                  1                 0                  0                   0   \n",
            "3                  0                 1                  1                   0   \n",
            "4                  0                 1                  1                   0   \n",
            "\n",
            "   poutcome: failure  poutcome: other  poutcome: success  y  \n",
            "0                  0                0                  0  0  \n",
            "1                  0                0                  0  1  \n",
            "2                  0                0                  0  0  \n",
            "3                  0                0                  0  1  \n",
            "4                  0                1                  0  0  \n",
            "\n",
            "[5 rows x 30 columns]\n"
          ]
        }
      ]
    },
    {
      "cell_type": "markdown",
      "source": [
        "# **SECTION B: EXPLORATION**"
      ],
      "metadata": {
        "id": "jjiiHv93USce"
      }
    },
    {
      "cell_type": "markdown",
      "source": [
        "## **Decision Tree Classification model**"
      ],
      "metadata": {
        "id": "ynuC1ABoUDl_"
      }
    },
    {
      "cell_type": "code",
      "source": [
        "# Applying Decision Tree Classification model to know the importance of each feature in predicting the output\n",
        "# decision tree for feature importance on a classification problem\n",
        "# Importing DecisionTreeClassifier module from sklearn.tree package\n",
        "from sklearn.tree import DecisionTreeClassifier\n",
        "# Importing export_graphviz module from sklearn.tree package to eplot the tree diagram\n",
        "import graphviz\n",
        "from sklearn.tree import export_graphviz\n",
        "# Creating model of DecisionTreeClassifier\n",
        "model = DecisionTreeClassifier(random_state=2)\n",
        "# Fitting the data to model\n",
        "model.fit(processed_x, processed_y)\n",
        "# Extracting feature importance values\n",
        "importance = model.feature_importances_\n",
        "\n",
        "# Storing feature importance values as dataframe and assigning column names to it\n",
        "feature_importance = pd.concat([pd.DataFrame(processed_x.columns,columns=['Features']),pd.DataFrame(importance,columns=['Importance'])*100],axis='columns')\n",
        "\n",
        "# Sorting the Dataframe by descending values of feature importance and resetting the index\n",
        "feature_imp = feature_importance.sort_values(by='Importance',ascending=False).reset_index(drop=True)\n",
        "# deleting the redundant feature_importance dataframe\n",
        "del feature_importance\n",
        "\n",
        "# Priting the features and theri importance values\n",
        "print(feature_imp.head(35))\n",
        "\n",
        "# Defining figure size for the plot\n",
        "plt.figure(figsize=(10,8))\n",
        "# Assigning colour paletter for plot\n",
        "temp = sns.color_palette(\"Set2\")\n",
        "# Plotting barchart for the importance values of the features\n",
        "sns.barplot(y='Features',x='Importance',data=feature_imp,palette=temp)\n",
        "# Display chart\n",
        "plt.show()\n",
        "# Creating another DecisionTreeClassifier model with max_depth=2 for visualizing a decision tree\n",
        "dt = DecisionTreeClassifier(max_depth=2)\n",
        "# Fitting the data to model\n",
        "dt.fit(processed_x, processed_y)\n",
        "# Exporting the tree.dot file with information essential for plotting the tree\n",
        "export_graphviz(dt,out_file=\"tree.dot\",class_names=['yes','no'],feature_names=processed_x.columns,impurity=False,filled=True)\n",
        "# Reading the tree.dot file in order to plot the tree\n",
        "with open('tree.dot') as f:\n",
        "  dot_graph = f.read()\n",
        "# Plotting the decision tree\n",
        "graphviz.Source(dot_graph)\n"
      ],
      "metadata": {
        "id": "D-IXGpROQRlH",
        "colab": {
          "base_uri": "https://localhost:8080/",
          "height": 1000
        },
        "outputId": "6933b6f8-6520-45de-9ac4-0919e51c07fb"
      },
      "execution_count": 975,
      "outputs": [
        {
          "output_type": "stream",
          "name": "stdout",
          "text": [
            "              Features  Importance\n",
            "0             duration   31.914854\n",
            "1    poutcome: success   12.019270\n",
            "2                  age   10.750560\n",
            "3                  day    9.601967\n",
            "4              balance    8.228051\n",
            "5                pdays    4.342031\n",
            "6             campaign    4.078177\n",
            "7            education    3.275069\n",
            "8              housing    2.620001\n",
            "9      job: management    1.693080\n",
            "10    marital: married    1.571235\n",
            "11            previous    1.214341\n",
            "12   marital: divorced    1.051873\n",
            "13   contact: cellular    1.029123\n",
            "14    job: blue-collar    0.857176\n",
            "15       job: services    0.855116\n",
            "16  contact: telephone    0.726453\n",
            "17         job: admin.    0.619099\n",
            "18     job: technician    0.595039\n",
            "19                loan    0.577189\n",
            "20        job: retired    0.517794\n",
            "21        job: student    0.490316\n",
            "22   poutcome: failure    0.475080\n",
            "23     job: unemployed    0.353562\n",
            "24   job: entrepreneur    0.243882\n",
            "25             default    0.155966\n",
            "26     poutcome: other    0.129353\n",
            "27  job: self-employed    0.014345\n",
            "28      job: housemaid    0.000000\n"
          ]
        },
        {
          "output_type": "display_data",
          "data": {
            "text/plain": [
              "<Figure size 720x576 with 1 Axes>"
            ],
            "image/png": "[encoded data removed]"
          },
          "metadata": {
            "needs_background": "light"
          }
        },
        {
          "output_type": "execute_result",
          "data": {
            "text/plain": [
              "<graphviz.files.Source at 0x7f81c5947b80>"
            ],
            "image/svg+xml": "<?xml version=\"1.0\" encoding=\"UTF-8\" standalone=\"no\"?>\n<!DOCTYPE svg PUBLIC \"-//W3C//DTD SVG 1.1//EN\"\n \"http://www.w3.org/Graphics/SVG/1.1/DTD/svg11.dtd\">\n<!-- Generated by graphviz version 2.40.1 (20161225.0304)\n -->\n<!-- Title: Tree Pages: 1 -->\n<svg width=\"598pt\" height=\"269pt\"\n viewBox=\"0.00 0.00 598.00 269.00\" xmlns=\"http://www.w3.org/2000/svg\" xmlns:xlink=\"http://www.w3.org/1999/xlink\">\n<g id=\"graph0\" class=\"graph\" transform=\"scale(1 1) rotate(0) translate(4 265)\">\n<title>Tree</title>\n<polygon fill=\"#ffffff\" stroke=\"transparent\" points=\"-4,4 -4,-265 594,-265 594,4 -4,4\"/>\n<!-- 0 -->\n<g id=\"node1\" class=\"node\">\n<title>0</title>\n<polygon fill=\"#eb9f69\" stroke=\"#000000\" points=\"371,-261 231,-261 231,-193 371,-193 371,-261\"/>\n<text text-anchor=\"middle\" x=\"301\" y=\"-245.8\" font-family=\"Helvetica,sans-Serif\" font-size=\"14.00\" fill=\"#000000\">duration &lt;= 0.651</text>\n<text text-anchor=\"middle\" x=\"301\" y=\"-230.8\" font-family=\"Helvetica,sans-Serif\" font-size=\"14.00\" fill=\"#000000\">samples = 3714</text>\n<text text-anchor=\"middle\" x=\"301\" y=\"-215.8\" font-family=\"Helvetica,sans-Serif\" font-size=\"14.00\" fill=\"#000000\">value = [2995, 719]</text>\n<text text-anchor=\"middle\" x=\"301\" y=\"-200.8\" font-family=\"Helvetica,sans-Serif\" font-size=\"14.00\" fill=\"#000000\">class = yes</text>\n</g>\n<!-- 1 -->\n<g id=\"node2\" class=\"node\">\n<title>1</title>\n<polygon fill=\"#e89253\" stroke=\"#000000\" points=\"305.5,-157 118.5,-157 118.5,-89 305.5,-89 305.5,-157\"/>\n<text text-anchor=\"middle\" x=\"212\" y=\"-141.8\" font-family=\"Helvetica,sans-Serif\" font-size=\"14.00\" fill=\"#000000\">poutcome: success &lt;= 0.5</text>\n<text text-anchor=\"middle\" x=\"212\" y=\"-126.8\" font-family=\"Helvetica,sans-Serif\" font-size=\"14.00\" fill=\"#000000\">samples = 2991</text>\n<text text-anchor=\"middle\" x=\"212\" y=\"-111.8\" font-family=\"Helvetica,sans-Serif\" font-size=\"14.00\" fill=\"#000000\">value = [2641, 350]</text>\n<text text-anchor=\"middle\" x=\"212\" y=\"-96.8\" font-family=\"Helvetica,sans-Serif\" font-size=\"14.00\" fill=\"#000000\">class = yes</text>\n</g>\n<!-- 0&#45;&gt;1 -->\n<g id=\"edge1\" class=\"edge\">\n<title>0&#45;&gt;1</title>\n<path fill=\"none\" stroke=\"#000000\" d=\"M271.8581,-192.9465C264.1745,-183.968 255.7947,-174.1758 247.8041,-164.8385\"/>\n<polygon fill=\"#000000\" stroke=\"#000000\" points=\"250.3685,-162.4521 241.2074,-157.13 245.0501,-167.0034 250.3685,-162.4521\"/>\n<text text-anchor=\"middle\" x=\"239.2702\" y=\"-178.3548\" font-family=\"Helvetica,sans-Serif\" font-size=\"14.00\" fill=\"#000000\">True</text>\n</g>\n<!-- 4 -->\n<g id=\"node5\" class=\"node\">\n<title>4</title>\n<polygon fill=\"#f7fbfe\" stroke=\"#000000\" points=\"456,-157 324,-157 324,-89 456,-89 456,-157\"/>\n<text text-anchor=\"middle\" x=\"390\" y=\"-141.8\" font-family=\"Helvetica,sans-Serif\" font-size=\"14.00\" fill=\"#000000\">duration &lt;= 1.849</text>\n<text text-anchor=\"middle\" x=\"390\" y=\"-126.8\" font-family=\"Helvetica,sans-Serif\" font-size=\"14.00\" fill=\"#000000\">samples = 723</text>\n<text text-anchor=\"middle\" x=\"390\" y=\"-111.8\" font-family=\"Helvetica,sans-Serif\" font-size=\"14.00\" fill=\"#000000\">value = [354, 369]</text>\n<text text-anchor=\"middle\" x=\"390\" y=\"-96.8\" font-family=\"Helvetica,sans-Serif\" font-size=\"14.00\" fill=\"#000000\">class = no</text>\n</g>\n<!-- 0&#45;&gt;4 -->\n<g id=\"edge4\" class=\"edge\">\n<title>0&#45;&gt;4</title>\n<path fill=\"none\" stroke=\"#000000\" d=\"M330.1419,-192.9465C337.8255,-183.968 346.2053,-174.1758 354.1959,-164.8385\"/>\n<polygon fill=\"#000000\" stroke=\"#000000\" points=\"356.9499,-167.0034 360.7926,-157.13 351.6315,-162.4521 356.9499,-167.0034\"/>\n<text text-anchor=\"middle\" x=\"362.7298\" y=\"-178.3548\" font-family=\"Helvetica,sans-Serif\" font-size=\"14.00\" fill=\"#000000\">False</text>\n</g>\n<!-- 2 -->\n<g id=\"node3\" class=\"node\">\n<title>2</title>\n<polygon fill=\"#e78d4c\" stroke=\"#000000\" points=\"140,-53 0,-53 0,0 140,0 140,-53\"/>\n<text text-anchor=\"middle\" x=\"70\" y=\"-37.8\" font-family=\"Helvetica,sans-Serif\" font-size=\"14.00\" fill=\"#000000\">samples = 2858</text>\n<text text-anchor=\"middle\" x=\"70\" y=\"-22.8\" font-family=\"Helvetica,sans-Serif\" font-size=\"14.00\" fill=\"#000000\">value = [2613, 245]</text>\n<text text-anchor=\"middle\" x=\"70\" y=\"-7.8\" font-family=\"Helvetica,sans-Serif\" font-size=\"14.00\" fill=\"#000000\">class = yes</text>\n</g>\n<!-- 1&#45;&gt;2 -->\n<g id=\"edge2\" class=\"edge\">\n<title>1&#45;&gt;2</title>\n<path fill=\"none\" stroke=\"#000000\" d=\"M161.9361,-88.9777C147.6531,-79.2713 132.1287,-68.7213 117.9737,-59.1018\"/>\n<polygon fill=\"#000000\" stroke=\"#000000\" points=\"119.5986,-55.9744 109.3605,-53.2485 115.6641,-61.764 119.5986,-55.9744\"/>\n</g>\n<!-- 3 -->\n<g id=\"node4\" class=\"node\">\n<title>3</title>\n<polygon fill=\"#6eb7ec\" stroke=\"#000000\" points=\"282,-53 158,-53 158,0 282,0 282,-53\"/>\n<text text-anchor=\"middle\" x=\"220\" y=\"-37.8\" font-family=\"Helvetica,sans-Serif\" font-size=\"14.00\" fill=\"#000000\">samples = 133</text>\n<text text-anchor=\"middle\" x=\"220\" y=\"-22.8\" font-family=\"Helvetica,sans-Serif\" font-size=\"14.00\" fill=\"#000000\">value = [28, 105]</text>\n<text text-anchor=\"middle\" x=\"220\" y=\"-7.8\" font-family=\"Helvetica,sans-Serif\" font-size=\"14.00\" fill=\"#000000\">class = no</text>\n</g>\n<!-- 1&#45;&gt;3 -->\n<g id=\"edge3\" class=\"edge\">\n<title>1&#45;&gt;3</title>\n<path fill=\"none\" stroke=\"#000000\" d=\"M214.8205,-88.9777C215.5113,-80.6449 216.2537,-71.6903 216.9545,-63.2364\"/>\n<polygon fill=\"#000000\" stroke=\"#000000\" points=\"220.4443,-63.5035 217.7825,-53.2485 213.4682,-62.9251 220.4443,-63.5035\"/>\n</g>\n<!-- 5 -->\n<g id=\"node6\" class=\"node\">\n<title>5</title>\n<polygon fill=\"#f7d6bf\" stroke=\"#000000\" points=\"448,-53 316,-53 316,0 448,0 448,-53\"/>\n<text text-anchor=\"middle\" x=\"382\" y=\"-37.8\" font-family=\"Helvetica,sans-Serif\" font-size=\"14.00\" fill=\"#000000\">samples = 476</text>\n<text text-anchor=\"middle\" x=\"382\" y=\"-22.8\" font-family=\"Helvetica,sans-Serif\" font-size=\"14.00\" fill=\"#000000\">value = [284, 192]</text>\n<text text-anchor=\"middle\" x=\"382\" y=\"-7.8\" font-family=\"Helvetica,sans-Serif\" font-size=\"14.00\" fill=\"#000000\">class = yes</text>\n</g>\n<!-- 4&#45;&gt;5 -->\n<g id=\"edge5\" class=\"edge\">\n<title>4&#45;&gt;5</title>\n<path fill=\"none\" stroke=\"#000000\" d=\"M387.1795,-88.9777C386.4887,-80.6449 385.7463,-71.6903 385.0455,-63.2364\"/>\n<polygon fill=\"#000000\" stroke=\"#000000\" points=\"388.5318,-62.9251 384.2175,-53.2485 381.5557,-63.5035 388.5318,-62.9251\"/>\n</g>\n<!-- 6 -->\n<g id=\"node7\" class=\"node\">\n<title>6</title>\n<polygon fill=\"#87c4ef\" stroke=\"#000000\" points=\"590,-53 466,-53 466,0 590,0 590,-53\"/>\n<text text-anchor=\"middle\" x=\"528\" y=\"-37.8\" font-family=\"Helvetica,sans-Serif\" font-size=\"14.00\" fill=\"#000000\">samples = 247</text>\n<text text-anchor=\"middle\" x=\"528\" y=\"-22.8\" font-family=\"Helvetica,sans-Serif\" font-size=\"14.00\" fill=\"#000000\">value = [70, 177]</text>\n<text text-anchor=\"middle\" x=\"528\" y=\"-7.8\" font-family=\"Helvetica,sans-Serif\" font-size=\"14.00\" fill=\"#000000\">class = no</text>\n</g>\n<!-- 4&#45;&gt;6 -->\n<g id=\"edge6\" class=\"edge\">\n<title>4&#45;&gt;6</title>\n<path fill=\"none\" stroke=\"#000000\" d=\"M438.6536,-88.9777C452.5343,-79.2713 467.6214,-68.7213 481.3777,-59.1018\"/>\n<polygon fill=\"#000000\" stroke=\"#000000\" points=\"483.5589,-61.8475 489.7483,-53.2485 479.5474,-56.1109 483.5589,-61.8475\"/>\n</g>\n</g>\n</svg>\n"
          },
          "metadata": {},
          "execution_count": 975
        }
      ]
    },
    {
      "cell_type": "markdown",
      "source": [
        "## **Feature Selection - Removing unwanted features and keeping only important features for training the model**"
      ],
      "metadata": {
        "id": "GXuJjLSF1lEQ"
      }
    },
    {
      "cell_type": "code",
      "source": [
        "# Dropping 30% of the features having low feature importance values\n",
        "processed_x.drop(feature_imp.loc[21:,'Features'].to_list(),axis = 1, inplace=True)\n",
        "# Dropping \"duration\" feature as it will not be used for training the model\n",
        "processed_x.drop([\"duration\"],axis = 1, inplace=True)\n",
        "# Checking the shape of the final input features features which will be used for training the ML models\n",
        "print(processed_x.shape)"
      ],
      "metadata": {
        "colab": {
          "base_uri": "https://localhost:8080/"
        },
        "id": "c5wZBQ_i1kyr",
        "outputId": "ea1795e6-0074-484c-9c67-26868b2baa16"
      },
      "execution_count": 976,
      "outputs": [
        {
          "output_type": "stream",
          "name": "stdout",
          "text": [
            "(3714, 20)\n"
          ]
        }
      ]
    },
    {
      "cell_type": "markdown",
      "source": [
        "# **SECTION C: MODEL EVALUATION**"
      ],
      "metadata": {
        "id": "UnlII-tOhwKV"
      }
    },
    {
      "cell_type": "markdown",
      "source": [
        "## **Testing Model Accuracy scores using K-fold Cross Validation**\n",
        "(Logistic Regression, Decision trees, K-nearest neighbours, Random Forest and Naive Bayes Classifiers)"
      ],
      "metadata": {
        "id": "CG95jWaJovO1"
      }
    },
    {
      "cell_type": "code",
      "source": [
        "# from sklearn.model_selection import StratifiedKFold\n",
        "from sklearn.model_selection import KFold\n",
        "from sklearn.model_selection import cross_val_score\n",
        "from sklearn.dummy import DummyClassifier\n",
        "# Importing linear_model module from sklearn package for logistic regression model\n",
        "from sklearn import linear_model\n",
        "# Importing tree module from sklearn package for decision tree model\n",
        "from sklearn import tree\n",
        "# Importing tree module from sklearn.neighbours package for K-nearest neighbour model\n",
        "from sklearn.neighbors import KNeighborsClassifier\n",
        "# Importing RandomForestClassifier module from sklearn.ensemble package for Random Forest Model\n",
        "from sklearn.ensemble import RandomForestClassifier\n",
        "# Importing GaussianNB module from sklearn.naive_bayes package for Naive Bayes Model\n",
        "from sklearn.naive_bayes import GaussianNB\n",
        "\n",
        "# Creating six classifiers to compare\n",
        "dc = DummyClassifier()\n",
        "lr = linear_model.LogisticRegression(C=1)\n",
        "dt = tree.DecisionTreeClassifier(max_depth=4,min_samples_leaf=7,random_state=2)\n",
        "# knn3 = KNeighborsClassifier(n_neighbors=3)\n",
        "knn4 = KNeighborsClassifier(n_neighbors=4)\n",
        "rand = RandomForestClassifier(max_depth=3,min_samples_leaf=3,random_state=2)\n",
        "nb = GaussianNB()\n",
        "\n",
        "# Setting up folds\n",
        "folds = KFold(n_splits=5, shuffle=True, random_state=31)\n",
        "\n",
        "# Test models with cross validation for accurcay score\n",
        "dc_scores = cross_val_score(dc, processed_x, processed_y.values.ravel(), scoring='accuracy', cv=folds)\n",
        "lr_scores = cross_val_score(lr, processed_x, processed_y.values.ravel(), scoring='accuracy', cv=folds)\n",
        "dt_scores = cross_val_score(dt, processed_x, processed_y.values.ravel(), scoring='accuracy', cv=folds)\n",
        "# knn3_scores = cross_val_score(knn3, processed_x, processed_y.values.ravel(), scoring='accuracy', cv=folds)\n",
        "knn4_scores = cross_val_score(knn4, processed_x, processed_y.values.ravel(), scoring='accuracy', cv=folds)\n",
        "rand_scores = cross_val_score(rand, processed_x, processed_y.values.ravel(), scoring='accuracy', cv=folds)\n",
        "nb_scores = cross_val_score(nb, processed_x, processed_y.values.ravel(), scoring='accuracy', cv=folds)\n",
        "\n",
        "# Printing the average result of accuracy test scores\n",
        "print(\"Baseline Accuracy:\", np.mean(dc_scores))\n",
        "print(\"Logistic Regression Accuracy:\", np.mean(lr_scores))\n",
        "print(\"Decision Tree Accuracy:\", np.mean(dt_scores))\n",
        "# print(\"K-NN (n=3) Accuracy:\", np.mean(knn3_scores))\n",
        "print(\"K-NN (n=4) Accuracy:\", np.mean(knn4_scores))\n",
        "print(\"Random Forest Accuracy:\", np.mean(rand_scores))\n",
        "print(\"Naive Bayes Accuracy:\", np.mean(nb_scores))"
      ],
      "metadata": {
        "colab": {
          "base_uri": "https://localhost:8080/"
        },
        "id": "S7BbEVOFotQS",
        "outputId": "816b4057-926a-420d-92e8-79503e0df96c"
      },
      "execution_count": 977,
      "outputs": [
        {
          "output_type": "stream",
          "name": "stdout",
          "text": [
            "Baseline Accuracy: 0.8064105959303907\n",
            "Logistic Regression Accuracy: 0.8352214559609363\n",
            "Decision Tree Accuracy: 0.834953728056651\n",
            "K-NN (n=4) Accuracy: 0.8144859660515212\n",
            "Random Forest Accuracy: 0.8338751981658099\n",
            "Naive Bayes Accuracy: 0.803990524318618\n"
          ]
        }
      ]
    },
    {
      "cell_type": "markdown",
      "source": [
        "## **Model Evaluation using Confusion Matrix**"
      ],
      "metadata": {
        "id": "uW-sBoyTgbXu"
      }
    },
    {
      "cell_type": "markdown",
      "source": [
        "### **Dummy Classifier - Confusion Matrix**"
      ],
      "metadata": {
        "id": "Sh3gWGjZMP-q"
      }
    },
    {
      "cell_type": "code",
      "source": [
        "#-- example of a confusion matrix for one of the classifiers\n",
        "from sklearn.metrics import confusion_matrix\n",
        "from sklearn.model_selection import cross_val_predict\n",
        "\n",
        "# Confusion Matrix for Dummy Classifier\n",
        "# Get the prediction obtained using Dummy Classifier Model\n",
        "dc_pred = cross_val_predict(dc, processed_x, processed_y.values.ravel(), cv=folds)\n",
        "# Get the confusion matrix for Dummy Classifier Model\n",
        "dc_matrix = confusion_matrix(processed_y.values.ravel(), dc_pred)\n",
        "# Storing Confusion Matrix as Dataframe and providing column and row names\n",
        "dc_matrix = pd.DataFrame(dc_matrix,columns=['Predicted (0)- Non-Target','Predicted (1)- Target'],index=['Actual (0)-Non Target','Actual (1)-Target'])\n",
        "\n",
        "# Calculating the accuracy of the model\n",
        "dc_accuracy = (dc_matrix.iloc[0,0]+dc_matrix.iloc[1,1])/(dc_matrix.iloc[0,0]+dc_matrix.iloc[0,1]+dc_matrix.iloc[1,0]+dc_matrix.iloc[1,1])\n",
        "print('Accuracy for baseline model = ',dc_accuracy)\n",
        "# Calculating the precision of the model (Precision is undefined because we are not predicting any result to be 'yes' which is our target class for marketing)\n",
        "dc_precision = dc_matrix.iloc[1,1]/(dc_matrix.iloc[0,1]+dc_matrix.iloc[1,1])\n",
        "print('Precision for baseline model = ',dc_precision)\n",
        "# Calculating the sensitivity or recall of the model\n",
        "dc_sensitivity = dc_matrix.iloc[1,1]/(dc_matrix.iloc[1,0]+dc_matrix.iloc[1,1])\n",
        "print('Sensitivity for baseline model = ',dc_sensitivity)\n",
        "# Calculating the specificity of the model\n",
        "dc_specificity = dc_matrix.iloc[0,0]/(dc_matrix.iloc[0,0]+dc_matrix.iloc[0,1])\n",
        "print('Specificity for baseline model = ',dc_specificity)\n",
        "\n",
        "#-- display the confusion matrices as heatmaps\n",
        "sns.set_style(\"white\")\n",
        "plt.rcParams['figure.figsize'] = (10.0, 8.0)\n",
        "sns.heatmap(dc_matrix, annot=True, fmt=\".1f\", cmap=\"Reds\", cbar=True)\n",
        "plt.show()"
      ],
      "metadata": {
        "colab": {
          "base_uri": "https://localhost:8080/",
          "height": 585
        },
        "id": "ewm5--98MUQC",
        "outputId": "edb83fe5-4a68-40fa-b25d-9493c8fe85f1"
      },
      "execution_count": 978,
      "outputs": [
        {
          "output_type": "stream",
          "name": "stdout",
          "text": [
            "Accuracy for baseline model =  0.8064081852450189\n",
            "Precision for baseline model =  nan\n",
            "Sensitivity for baseline model =  0.0\n",
            "Specificity for baseline model =  1.0\n"
          ]
        },
        {
          "output_type": "stream",
          "name": "stderr",
          "text": [
            "<ipython-input-978-8283b13ad091>:17: RuntimeWarning: invalid value encountered in long_scalars\n",
            "  dc_precision = dc_matrix.iloc[1,1]/(dc_matrix.iloc[0,1]+dc_matrix.iloc[1,1])\n"
          ]
        },
        {
          "output_type": "display_data",
          "data": {
            "text/plain": [
              "<Figure size 720x576 with 2 Axes>"
            ],
            "image/png": "[encoded data removed]"
          },
          "metadata": {}
        }
      ]
    },
    {
      "cell_type": "markdown",
      "source": [
        "### **Logistic Regression - Confusion Matrix**"
      ],
      "metadata": {
        "id": "UeYwgv5SC5cZ"
      }
    },
    {
      "cell_type": "code",
      "source": [
        "# Confusion Matrix for Logistic Regression Classifier\n",
        "# Get the prediction obtained using Logistic Regression Model\n",
        "lr_pred = cross_val_predict(lr, processed_x, processed_y.values.ravel(), cv=folds)\n",
        "# Get the confusion matrix for Logistic Regression Model\n",
        "lr_matrix = confusion_matrix(processed_y.values.ravel(), lr_pred)\n",
        "# Storing Confusion Matrix as Dataframe and providing column and row names\n",
        "lr_matrix = pd.DataFrame(lr_matrix,columns=['Predicted (0)- Non-Target','Predicted (1)- Target'],index=['Actual (0)-Non Target','Actual (1)-Target'])\n",
        "\n",
        "# Calculating the accuracy of the model\n",
        "lr_accuracy = (lr_matrix.iloc[0,0]+lr_matrix.iloc[1,1])/(lr_matrix.iloc[0,0]+lr_matrix.iloc[0,1]+lr_matrix.iloc[1,0]+lr_matrix.iloc[1,1])\n",
        "print('Accuracy for Logistic Regression model = ',lr_accuracy)\n",
        "# Calculating the precision of the model (Precision is undefined because we are not predicting any result to be 'yes' which is our target class for marketing)\n",
        "lr_precision = lr_matrix.iloc[1,1]/(lr_matrix.iloc[0,1]+lr_matrix.iloc[1,1])\n",
        "print('Precision for Logistic Regression model = ',lr_precision)\n",
        "# Calculating the sensitivity or recall of the model\n",
        "lr_sensitivity = lr_matrix.iloc[1,1]/(lr_matrix.iloc[1,0]+lr_matrix.iloc[1,1])\n",
        "print('Sensitivity for Logistic Regression model = ',lr_sensitivity)\n",
        "# Calculating the specificity of the model\n",
        "lr_specificity = lr_matrix.iloc[0,0]/(lr_matrix.iloc[0,0]+lr_matrix.iloc[0,1])\n",
        "print('Specificity for Logistic Regression model = ',lr_specificity)\n",
        "\n",
        "# display the confusion matrix as heatmap\n",
        "sns.set_style(\"white\")\n",
        "# Define Figure size\n",
        "plt.rcParams['figure.figsize'] = (10.0, 8.0)\n",
        "# Plot Heatmap for Confusion Matrix\n",
        "sns.heatmap(lr_matrix, annot=True, fmt=\".1f\", cmap=\"Reds\", cbar=True)"
      ],
      "metadata": {
        "colab": {
          "base_uri": "https://localhost:8080/",
          "height": 568
        },
        "id": "WtT854SEC4le",
        "outputId": "2aff8550-c5b6-4ad6-827d-53bce736483d"
      },
      "execution_count": 979,
      "outputs": [
        {
          "output_type": "stream",
          "name": "stdout",
          "text": [
            "Accuracy for Logistic Regression model =  0.8352180936995154\n",
            "Precision for Logistic Regression model =  0.7891891891891892\n",
            "Sensitivity for Logistic Regression model =  0.20305980528511822\n",
            "Specificity for Logistic Regression model =  0.9869782971619365\n"
          ]
        },
        {
          "output_type": "execute_result",
          "data": {
            "text/plain": [
              "<matplotlib.axes._subplots.AxesSubplot at 0x7f81c31d0970>"
            ]
          },
          "metadata": {},
          "execution_count": 979
        },
        {
          "output_type": "display_data",
          "data": {
            "text/plain": [
              "<Figure size 720x576 with 2 Axes>"
            ],
            "image/png": "[encoded data removed]"
          },
          "metadata": {}
        }
      ]
    },
    {
      "cell_type": "markdown",
      "source": [
        "### **Random Forest - Confusion Matrix**"
      ],
      "metadata": {
        "id": "VjC_289cKEKI"
      }
    },
    {
      "cell_type": "code",
      "source": [
        "# Confusion Matrix for Random Forest Classifier\n",
        "# Get the prediction obtained using Random Forest Model\n",
        "rand_pred = cross_val_predict(rand, processed_x, processed_y.values.ravel(), cv=folds)\n",
        "# Get the confusion matrix for Random Forest Model\n",
        "rand_matrix = confusion_matrix(processed_y.values.ravel(), rand_pred)\n",
        "# Storing Confusion Matrix as Dataframe and providing column and row names\n",
        "rand_matrix = pd.DataFrame(rand_matrix,columns=['Predicted (0)- Non-Target','Predicted (1)- Target'],index=['Actual (0)-Non Target','Actual (1)-Target'])\n",
        "\n",
        "# Calculating the accuracy of the model\n",
        "rand_accuracy = (rand_matrix.iloc[0,0]+rand_matrix.iloc[1,1])/(rand_matrix.iloc[0,0]+rand_matrix.iloc[0,1]+rand_matrix.iloc[1,0]+rand_matrix.iloc[1,1])\n",
        "print('Accuracy for Random Forest model = ',rand_accuracy)\n",
        "# Calculating the precision of the model (Precision is undefined because we are not predicting any result to be 'yes' which is our target class for marketing)\n",
        "rand_precision = rand_matrix.iloc[1,1]/(rand_matrix.iloc[0,1]+rand_matrix.iloc[1,1])\n",
        "print('Precision for Random Forest model = ',rand_precision)\n",
        "# Calculating the sensitivity or recall of the model\n",
        "rand_sensitivity = rand_matrix.iloc[1,1]/(rand_matrix.iloc[1,0]+rand_matrix.iloc[1,1])\n",
        "print('Sensitivity for Random Forest model = ',rand_sensitivity)\n",
        "# Calculating the specificity of the model\n",
        "rand_specificity = rand_matrix.iloc[0,0]/(rand_matrix.iloc[0,0]+rand_matrix.iloc[0,1])\n",
        "print('Specificity for Random Forest model = ',rand_specificity)\n",
        "\n",
        "# display the confusion matrix as heatmap\n",
        "sns.set_style(\"white\")\n",
        "# Define Figure size\n",
        "plt.rcParams['figure.figsize'] = (10.0, 8.0)\n",
        "# Plot Heatmap for Confusion Matrix\n",
        "sns.heatmap(rand_matrix, annot=True, fmt=\".1f\", cmap=\"Reds\", cbar=True)"
      ],
      "metadata": {
        "colab": {
          "base_uri": "https://localhost:8080/",
          "height": 568
        },
        "id": "t6jnI-Z9KDzy",
        "outputId": "5fe28fd1-8e08-4ba7-e4e5-96d15774e0b3"
      },
      "execution_count": 980,
      "outputs": [
        {
          "output_type": "stream",
          "name": "stdout",
          "text": [
            "Accuracy for Random Forest model =  0.8338718362950996\n",
            "Precision for Random Forest model =  0.8269230769230769\n",
            "Sensitivity for Random Forest model =  0.17941585535465926\n",
            "Specificity for Random Forest model =  0.9909849749582638\n"
          ]
        },
        {
          "output_type": "execute_result",
          "data": {
            "text/plain": [
              "<matplotlib.axes._subplots.AxesSubplot at 0x7f81c30eeb80>"
            ]
          },
          "metadata": {},
          "execution_count": 980
        },
        {
          "output_type": "display_data",
          "data": {
            "text/plain": [
              "<Figure size 720x576 with 2 Axes>"
            ],
            "image/png": "[encoded data removed]"
          },
          "metadata": {}
        }
      ]
    },
    {
      "cell_type": "markdown",
      "source": [
        "### **K Nearest Neighbour - Confusion Matrix**"
      ],
      "metadata": {
        "id": "8grkEzBMRaAi"
      }
    },
    {
      "cell_type": "code",
      "source": [
        "# Confusion Matrix for K Nearest Neighbour Classifier\n",
        "# Get the prediction obtained using K Nearest Neighbour Model\n",
        "knn4_pred = cross_val_predict(knn4, processed_x, processed_y.values.ravel(), cv=folds)\n",
        "# Get the confusion matrix for K Nearest Neighbour Model\n",
        "knn4_matrix = confusion_matrix(processed_y.values.ravel(), knn4_pred)\n",
        "# Storing Confusion Matrix as Dataframe and providing column and row names\n",
        "knn4_matrix = pd.DataFrame(knn4_matrix,columns=['Predicted (0)- Non-Target','Predicted (1)- Target'],index=['Actual (0)-Non Target','Actual (1)-Target'])\n",
        "\n",
        "# Calculating the accuracy of the model\n",
        "knn4_accuracy = (knn4_matrix.iloc[0,0]+knn4_matrix.iloc[1,1])/(knn4_matrix.iloc[0,0]+knn4_matrix.iloc[0,1]+knn4_matrix.iloc[1,0]+knn4_matrix.iloc[1,1])\n",
        "print('Accuracy for K Nearest Neighbour model = ',knn4_accuracy)\n",
        "# Calculating the precision of the model (Precision is undefined because we are not predicting any result to be 'yes' which is our target class for marketing)\n",
        "knn4_precision = knn4_matrix.iloc[1,1]/(knn4_matrix.iloc[0,1]+knn4_matrix.iloc[1,1])\n",
        "print('Precision for K Nearest Neighbour model = ',knn4_precision)\n",
        "# Calculating the sensitivity or recall of the model\n",
        "knn4_sensitivity = knn4_matrix.iloc[1,1]/(knn4_matrix.iloc[1,0]+knn4_matrix.iloc[1,1])\n",
        "print('Sensitivity for K Nearest Neighbour model = ',knn4_sensitivity)\n",
        "# Calculating the specificity of the model\n",
        "knn4_specificity = knn4_matrix.iloc[0,0]/(knn4_matrix.iloc[0,0]+knn4_matrix.iloc[0,1])\n",
        "print('Specificity for K Nearest Neighbour model = ',knn4_specificity)\n",
        "\n",
        "# display the confusion matrix as heatmap\n",
        "sns.set_style(\"white\")\n",
        "# Define Figure size\n",
        "plt.rcParams['figure.figsize'] = (10.0, 8.0)\n",
        "# Plot Heatmap for Confusion Matrix\n",
        "sns.heatmap(knn4_matrix, annot=True, fmt=\".1f\", cmap=\"Reds\", cbar=True)"
      ],
      "metadata": {
        "colab": {
          "base_uri": "https://localhost:8080/",
          "height": 568
        },
        "id": "55Rpbu0gRZmX",
        "outputId": "d86d5f49-ec2e-41dd-a79b-167381a3caf8"
      },
      "execution_count": 981,
      "outputs": [
        {
          "output_type": "stream",
          "name": "stdout",
          "text": [
            "Accuracy for K Nearest Neighbour model =  0.8144857296715132\n",
            "Precision for K Nearest Neighbour model =  0.5681818181818182\n",
            "Sensitivity for K Nearest Neighbour model =  0.17385257301808066\n",
            "Specificity for K Nearest Neighbour model =  0.9682804674457429\n"
          ]
        },
        {
          "output_type": "execute_result",
          "data": {
            "text/plain": [
              "<matplotlib.axes._subplots.AxesSubplot at 0x7f81c3164b50>"
            ]
          },
          "metadata": {},
          "execution_count": 981
        },
        {
          "output_type": "display_data",
          "data": {
            "text/plain": [
              "<Figure size 720x576 with 2 Axes>"
            ],
            "image/png": "[encoded data removed]"
          },
          "metadata": {}
        }
      ]
    },
    {
      "cell_type": "markdown",
      "source": [
        "### **Naive Bayes - Confusion Matrix**"
      ],
      "metadata": {
        "id": "Bqnqs62jfYjr"
      }
    },
    {
      "cell_type": "code",
      "source": [
        "# Confusion Matrix for Naive Bayes Classifier\n",
        "# Get the prediction obtained using Naive Bayes Model\n",
        "nb_pred = cross_val_predict(nb, processed_x, processed_y.values.ravel(), cv=folds)\n",
        "# Get the confusion matrix for Naive Bayes Model\n",
        "nb_matrix = confusion_matrix(processed_y.values.ravel(), nb_pred)\n",
        "# Storing Confusion Matrix as Dataframe and providing column and row names\n",
        "nb_matrix = pd.DataFrame(nb_matrix,columns=['Predicted (0)- Non-Target','Predicted (1)- Target'],index=['Actual (0)-Non Target','Actual (1)-Target'])\n",
        "\n",
        "# Calculating the accuracy of the model\n",
        "nb_accuracy = (nb_matrix.iloc[0,0]+nb_matrix.iloc[1,1])/(nb_matrix.iloc[0,0]+nb_matrix.iloc[0,1]+nb_matrix.iloc[1,0]+nb_matrix.iloc[1,1])\n",
        "print('Accuracy for Naive Bayes model = ',nb_accuracy)\n",
        "# Calculating the precision of the model (Precision is undefined because we are not predicting any result to be 'yes' which is our target class for marketing)\n",
        "nb_precision = nb_matrix.iloc[1,1]/(nb_matrix.iloc[0,1]+nb_matrix.iloc[1,1])\n",
        "print('Precision for Naive Bayes model = ',nb_precision)\n",
        "# Calculating the sensitivity or recall of the model\n",
        "nb_sensitivity = nb_matrix.iloc[1,1]/(nb_matrix.iloc[1,0]+nb_matrix.iloc[1,1])\n",
        "print('Sensitivity for Naive Bayes model = ',nb_sensitivity)\n",
        "# Calculating the specificity of the model\n",
        "nb_specificity = nb_matrix.iloc[0,0]/(nb_matrix.iloc[0,0]+nb_matrix.iloc[0,1])\n",
        "print('Specificity for Naive Bayes model = ',nb_specificity)\n",
        "\n",
        "# display the confusion matrix as heatmap\n",
        "sns.set_style(\"white\")\n",
        "# Define Figure size\n",
        "plt.rcParams['figure.figsize'] = (10.0, 8.0)\n",
        "# Plot Heatmap for Confusion Matrix\n",
        "sns.heatmap(nb_matrix, annot=True, fmt=\".1f\", cmap=\"Reds\", cbar=True)"
      ],
      "metadata": {
        "colab": {
          "base_uri": "https://localhost:8080/",
          "height": 568
        },
        "id": "FzNJivu5fXjW",
        "outputId": "bd0d605f-b2fe-450b-d51c-c1ebf414f6aa"
      },
      "execution_count": 982,
      "outputs": [
        {
          "output_type": "stream",
          "name": "stdout",
          "text": [
            "Accuracy for Naive Bayes model =  0.8039849219170705\n",
            "Precision for Naive Bayes model =  0.4898419864559819\n",
            "Sensitivity for Naive Bayes model =  0.30180806675938804\n",
            "Specificity for Naive Bayes model =  0.9245409015025041\n"
          ]
        },
        {
          "output_type": "execute_result",
          "data": {
            "text/plain": [
              "<matplotlib.axes._subplots.AxesSubplot at 0x7f81c2ffc130>"
            ]
          },
          "metadata": {},
          "execution_count": 982
        },
        {
          "output_type": "display_data",
          "data": {
            "text/plain": [
              "<Figure size 720x576 with 2 Axes>"
            ],
            "image/png": "[encoded data removed]"
          },
          "metadata": {}
        }
      ]
    },
    {
      "cell_type": "markdown",
      "source": [
        "# **SECTION D: MODEL ASSESSMENT**\n",
        "\n",
        "Considering the business case for measuring success, we must consider “precision” of models along\n",
        "with its “accuracy”. The winning classifier model is the “Random Forest” model "
      ],
      "metadata": {
        "id": "bvbrOehQv_1A"
      }
    },
    {
      "cell_type": "markdown",
      "source": [
        "# **SECTION E: MODEL IMPLEMENTATION**"
      ],
      "metadata": {
        "id": "mFr17wFgiTl-"
      }
    },
    {
      "cell_type": "code",
      "source": [
        "# Importing pickle package to save ML model\n",
        "import pickle\n",
        "final_model = RandomForestClassifier(max_depth=4,min_samples_leaf=7)\n",
        "# Fit the model on processed dataset\n",
        "final_model.fit(processed_x, processed_y)\n",
        "\n",
        "# Saving the trained model as 'model_final.pkl' as a binary file\n",
        "file_name = 'Model_final.pkl'\n",
        "pickle.dump(final_model,open(file_name,'wb'))"
      ],
      "metadata": {
        "colab": {
          "base_uri": "https://localhost:8080/"
        },
        "id": "weZeNStfibi2",
        "outputId": "d86122d8-abc9-4247-b200-31629695e00c"
      },
      "execution_count": 983,
      "outputs": [
        {
          "output_type": "stream",
          "name": "stderr",
          "text": [
            "<ipython-input-983-e410ff92f71e>:5: DataConversionWarning: A column-vector y was passed when a 1d array was expected. Please change the shape of y to (n_samples,), for example using ravel().\n",
            "  final_model.fit(processed_x, processed_y)\n"
          ]
        }
      ]
    }
  ]
}